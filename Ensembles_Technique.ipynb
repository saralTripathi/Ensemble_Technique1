{
  "nbformat": 4,
  "nbformat_minor": 0,
  "metadata": {
    "colab": {
      "provenance": []
    },
    "kernelspec": {
      "name": "python3",
      "display_name": "Python 3"
    },
    "language_info": {
      "name": "python"
    }
  },
  "cells": [
    {
      "cell_type": "markdown",
      "source": [
        "1. Can we use Bagging for regression problems?\n",
        "\n",
        "   -  Yes, Bagging (Bootstrap Aggregating) can definitely be used for regression problems, not just classification.\n",
        "   - How it works in regression:\n",
        "        - Bootstrapping: Multiple subsets of the training data are created using random sampling with replacement.\n",
        "        - Model Training: A base regression model (like decision trees, linear regression, etc.) is trained on each subset.\n",
        "        - Prediction Aggregation: For regression, the predictions of all models are averaged (instead of voting, which is used in classification).\n",
        "2. What is the difference between multiple model training and single model training?\n",
        "   - Single Model Training\n",
        "      - Train one model on the entire dataset.\n",
        "      - Fit the model once to the training data.\n",
        "      -  Use this one model to make predictions.\n",
        "      - Simple and easy to interpret.\n",
        "      - Fast to train and deploy\n",
        "      - Might overfit (high variance) or underfit (high bias).\n",
        "      - Less robust to noise or outliers\n",
        "  - Multiple Model Training (Ensemble Learning):\n",
        "      - Train multiple models and combine their predictions.\n",
        "      - Train several models (either the same type or different types).\n",
        "      - Often more accurate than single models.\n",
        "      - Reduces overfitting (variance) and sometimes bias.\n",
        "      - More robust and generalizable.\n",
        "      - More computationally expensive.\n",
        "      - Harder to interpret and explain.\n",
        "3. Explain the concept of feature randomness in Random Forest.\n",
        "   - Feature randomness is a key concept in how Random Forests work — it adds an extra layer of randomness to increase the diversity of trees, which helps improve accuracy and reduce overfitting.\n",
        "   - In a Random Forest, each decision tree is trained not only on a random subset of data (via bootstrapping), but also on a random subset of features at each split. This is known as feature randomness.\n",
        "4.  What is OOB (Out-of-Bag) Score.\n",
        "    - OOB (Out-of-Bag) score is an internal validation method used in Random Forests to estimate model performance without needing a separate validation set.\n",
        "    - When building each tree, Random Forest uses a random sample (with replacement) of the training data. On average, about 63% of the data is used for training each tree.\n",
        "    - The remaining ~37% of data not selected for training that tree are called OOB samples for that tree.\n",
        "    - For each training instance, collect the predictions only from the trees where it was not used in training.\n",
        "    - Aggregate those predictions (majority vote for classification or average for regression).\n",
        "    - Compare the OOB predictions to the actual labels.\n",
        "    - This gives an unbiased estimate of model accuracy on unseen data.\n",
        "5.  How can you measure the importance of features in a Random Forest model?\n",
        "    - Feature importance tells you which features contribute most to the predictions made by a Random Forest model. This helps with interpretability, dimensionality reduction, and model improvement.\n",
        "    - Two Main Ways to Measure Feature Importance:\n",
        "        - 1. Mean Decrease in Impurity (MDI):\n",
        "                - Also called Gini importance (for classification) or variance reduction (for regression).\n",
        "                - Every time a feature is used to split a node, it reduces impurity (e.g., Gini, entropy, variance).\n",
        "                - The amount of impurity reduction is accumulated for each feature across all trees.\n",
        "                - Features with higher total reductions are considered more important.\n",
        "        - 2. Permutation Importance\n",
        "             - More robust and model-agnostic.\n",
        "             - Randomly shuffle the values of one feature across the dataset.\n",
        "             - Measure the drop in model performance (e.g., accuracy, R²).\n",
        "             - A large drop means the feature was important for making predictions.\n",
        "             - Can be applied to any fitted model.\n",
        "6. Explain the working principle of a Bagging Classifier?\n",
        "   - Bagging stands for Bootstrap Aggregating. It is an ensemble learning technique used to improve the stability, accuracy, and generalization of machine learning models, especially high-variance ones like decision trees.\n",
        "   - Step-by-Step Working of a Bagging Classifier:\n",
        "        - From the original training data (say, N instances), create multiple random subsets (also of size N).\n",
        "        - Each subset is created by sampling with replacement.\n",
        "        - Some original data points may appear multiple times in a subset.\n",
        "        - Some may be left out (these are called out-of-bag samples).\n",
        "        - Each random subset is used to train a separate model (usually of the same type — e.g., decision trees).\n",
        "        - These models are trained independently and in parallel.\n",
        "        - Once all base models are trained, the predictions are combined:\n",
        "        - Classification: Use majority voting (the class most models predicted).\n",
        "        - Regression: Use average of the predictions (in Bagging Regressor).\n",
        "        - The final prediction is more stable and less prone to overfitting, especially when compared to a single high-variance model.\n",
        "7. How do you evaluate a Bagging Classifier’s performance?\n",
        "   -  1. Train-Test Split or Cross-Validation\n",
        "   - 2. Fit the Bagging Classifier\n",
        "   - 3. Make Predictions\n",
        "   - 4. Evaluate Using Performance Metrics\n",
        "8. How does a Bagging Regressor work?\n",
        "   - A Bagging Regressor is an ensemble learning method that improves the accuracy and stability of regression models by combining the predictions of multiple base regressors trained on different subsets of the training data. Here's how it works:\n",
        "      - 1. Bootstrap Sampling (Bagging).\n",
        "      - 2. Train Base Regressors.\n",
        "      - 3. Make Predictions.\n",
        "      - 4. Aggregate the Results.\n",
        "\n",
        "9. What is the main advantage of ensemble techniques?\n",
        "   - The main advantage of ensemble techniques is that they combine multiple models to produce a more accurate, stable, and robust prediction than any individual model could achieve on its own.\n",
        "   - Improved Accuracy\n",
        "   - Reduced Overfitting\n",
        "   - Reduced Bias\n",
        "   - Increased Robustness\n",
        "   - Generalization\n",
        "10. What is the main challenge of ensemble methods?\n",
        "    - The main challenge of ensemble methods is their increased complexity, both in terms of computational cost and model interpretability.\n",
        "    - Computational Cost\n",
        "    - Lack of Interpretability\n",
        "    - Risk of Overfitting (in Boosting)\n",
        "    - Difficult Tuning and Model Management\n",
        "    - The main challenge of ensemble methods is the trade-off between improved performance and increased complexity — they are harder to interpret, computationally more expensive, and require more effort to tune and deploy effectively.\n",
        "11. Explain the key idea behind ensemble techniques.\n",
        "    - Combine multiple models to make better predictions than any single model alone.\n",
        "    - This is based on the principle that a group of diverse and well-performing models, when aggregated properly, can correct each other’s errors, leading to higher accuracy, lower variance, and better generalization.\n",
        "    - The key idea behind ensemble techniques is to combine the strengths of multiple models so their individual weaknesses are minimized, resulting in a more accurate, stable, and generalizable prediction system.\n",
        "12. What is a Random Forest Classifier?\n",
        "    - A Random Forest Classifier is a popular ensemble learning algorithm used for classification tasks. It builds multiple decision trees and combines their outputs to improve accuracy and reduce overfitting.\n",
        "    - A Random Forest Classifier is an ensemble of multiple decision trees, where each tree is trained on a random subset of the data and features. The final prediction is made by majority voting among all trees.\n",
        "13. What are the main types of ensemble techniques?\n",
        "    - A Random Forest Classifier is an ensemble model that uses many decision trees trained on random subsets of the data and features. It combines their outputs using majority voting to provide more accurate and stable predictions than a single decision tree.\n",
        "    - A Random Forest Classifier is an ensemble of multiple decision trees, where each tree is trained on a random subset of the data and features. The final prediction is made by majority voting among all trees.\n",
        "14. What is ensemble learning in machine learning?\n",
        "    - The main ensemble techniques are Bagging, Boosting, Stacking, and Voting. They differ in how models are built, combined, and what kind of performance improvements they aim for — like reducing bias, variance, or improving robustness.\n",
        "    - 1. Bagging (Bootstrap Aggregating):\n",
        "          - Train multiple models on different random subsets of the data (with replacement), and then combine their predictions.\n",
        "          - Goal: Reduce variance\n",
        "          - Best for: High-variance models like decision trees\n",
        "    - 2. Boosting:\n",
        "          - Train models sequentially, where each new model focuses on the errors made by the previous ones.\n",
        "          - Goal: Reduce bias\n",
        "          - Works well when: You have many weak learners that can be turned into a strong learner\n",
        "    - 3. Stacking (Stacked Generalization):\n",
        "          - Train multiple different types of models, and use another model (a meta-learner) to learn how best to combine their predictions.\n",
        "          - Goal: Leverage the strengths of various models\n",
        "          - Flexible: Can use both classification and regression base models\n",
        "15. When should we avoid using ensemble methods?\n",
        "    - While ensemble methods are powerful, they are not always the best choice. Here are situations where you should avoid using ensemble methods:\n",
        "    - 1. When You Need High Interpretability\n",
        "    -  2. When You Have Limited Computational Resources\n",
        "    - 3. When the Base Model Already Performs Well\n",
        "    - 4. When Data Is Very Small\n",
        "    -  5. When You Need Fast Inference (Real-Time Predictions)\n",
        "16. How does Bagging help in reducing overfitting?\n",
        "    - Bagging reduces overfitting by training multiple models on different subsets of data and averaging their predictions, which cancels out individual overfitting errors and leads to a more stable, generalized model.\n",
        "17. Why is Random Forest better than a single Decision Tree?\n",
        "    - A Random Forest is better than a Decision Tree because it reduces overfitting, lowers variance, and produces more accurate and stable predictions — all by combining the output of many diverse trees trained on random data and features.\n",
        "18. What is the role of bootstrap sampling in Bagging?\n",
        "    - Bootstrap sampling in Bagging generates multiple diverse training sets by sampling with replacement, which leads to training diverse models. This diversity allows Bagging to reduce variance and overfitting by averaging multiple overfitted models into a stable and accurate ensemble.\n",
        "19. What are some real-world applications of ensemble techniques?\n",
        "    - 1. Finance and Banking\n",
        "    - 2. Healthcare\n",
        "    - 3. Retail and E-commerce\n",
        "    -  4. Technology and Internet Services\n",
        "\n",
        "20. What is the difference between Bagging and Boosting?\n",
        "    - Bagging:\n",
        "         - Builds many independent models on random subsets of data to reduce variance by averaging their predictions.\n",
        "         - Like asking many people independently for their opinion and then averaging to get a consensus.\n",
        "    - Boosting:     \n",
        "        - Builds models sequentially, each trying to fix the mistakes of the previous ones to reduce bias and improve accuracy.\n",
        "        - Like tutoring a student repeatedly, focusing more on the topics they struggle with each time to improve their performance.\n",
        "     \n",
        "\n",
        "\n",
        "\n",
        "\n",
        "\n",
        "\n",
        "\n",
        "\n",
        "\n",
        "\n",
        "\n",
        "\n",
        "\n",
        "\n",
        "\n",
        "\n",
        "\n",
        "\n",
        "\n",
        "\n",
        "\n",
        "\n",
        "\n",
        "\n",
        "\n",
        "\n",
        "\n",
        "\n",
        "\n",
        "\n",
        "\n",
        "\n",
        "\n",
        "\n",
        "\n",
        "\n"
      ],
      "metadata": {
        "id": "GnJOIINiH95s"
      }
    },
    {
      "cell_type": "code",
      "execution_count": null,
      "metadata": {
        "id": "C12j2KyFHyHO",
        "colab": {
          "base_uri": "https://localhost:8080/"
        },
        "outputId": "177e9dd2-0f91-4ec4-ae7f-f9ea6a0225a2"
      },
      "outputs": [
        {
          "output_type": "stream",
          "name": "stdout",
          "text": [
            "1.0\n"
          ]
        }
      ],
      "source": [
        "#1.Train a Bagging Classifier using Decision Trees on a sample dataset and print model accuracy.\n",
        "\n",
        "from sklearn.ensemble import BaggingClassifier\n",
        "from sklearn.tree import DecisionTreeClassifier\n",
        "from sklearn.datasets import load_iris\n",
        "from sklearn.model_selection import train_test_split\n",
        "from sklearn.metrics import accuracy_score\n",
        "\n",
        "\n",
        "x,y = load_iris(return_X_y=True)\n",
        "x_train,x_test,y_train,y_test = train_test_split(x,y,test_size=0.2,random_state=42)\n",
        "\n",
        "\n",
        "\n",
        "model = BaggingClassifier(estimator=DecisionTreeClassifier(),n_estimators=10,random_state=42)\n",
        "model.fit(x_train,y_train)\n",
        "y_pred = model.predict(x_test)\n",
        "accuracy = accuracy_score(y_test,y_pred)\n",
        "print(accuracy)"
      ]
    },
    {
      "cell_type": "code",
      "source": [
        "#2. Train a Bagging Regressor using Decision Trees and evaluate using Mean Squared Error (MSE).\n",
        "from sklearn.ensemble import BaggingRegressor\n",
        "from sklearn.tree import DecisionTreeClassifier\n",
        "from sklearn.datasets import load_iris\n",
        "from sklearn.model_selection import train_test_split\n",
        "from sklearn.metrics import mean_squared_error\n",
        "\n",
        "\n",
        "x,y = load_iris(return_X_y=True)\n",
        "x_train,x_test,y_train,y_test = train_test_split(x,y,test_size=0.2,random_state=42)\n",
        "\n",
        "\n",
        "\n",
        "model = BaggingRegressor(estimator=DecisionTreeClassifier(),n_estimators=10,random_state=42)\n",
        "model.fit(x_train,y_train)\n",
        "y_pred = model.predict(x_test)\n",
        "mse = mean_squared_error(y_test,y_pred)\n",
        "print(mse)"
      ],
      "metadata": {
        "id": "aZc-8XrE9VZn",
        "colab": {
          "base_uri": "https://localhost:8080/"
        },
        "outputId": "1a2c19a5-49c8-494c-c991-443d3b940949"
      },
      "execution_count": null,
      "outputs": [
        {
          "output_type": "stream",
          "name": "stdout",
          "text": [
            "0.0016666666666666666\n"
          ]
        }
      ]
    },
    {
      "cell_type": "code",
      "source": [
        "#3. Train a Random Forest Classifier on the Breast Cancer dataset and print feature importance scores.\n",
        "from sklearn.ensemble import RandomForestClassifier\n",
        "from sklearn.datasets import load_breast_cancer\n",
        "from sklearn.model_selection import train_test_split\n",
        "\n",
        "x,y = load_breast_cancer(return_X_y = True)\n",
        "x_train,x_test,y_train,y_test = train_test_split(x,y,test_size=0.2,random_state=42)\n",
        "\n",
        "model = RandomForestClassifier(n_estimators=100,random_state=42)\n",
        "model.fit(x_train,y_train)\n",
        "feature_importance = model.feature_importances_\n",
        "print(feature_importance)"
      ],
      "metadata": {
        "colab": {
          "base_uri": "https://localhost:8080/"
        },
        "id": "e6KG42cZGBrv",
        "outputId": "8447f497-7bff-4dd5-e36a-7328640d1bd5"
      },
      "execution_count": null,
      "outputs": [
        {
          "output_type": "stream",
          "name": "stdout",
          "text": [
            "[0.04870337 0.01359088 0.05326975 0.04755501 0.00728533 0.01394433\n",
            " 0.06800084 0.10620999 0.00377029 0.00388577 0.02013892 0.00472399\n",
            " 0.01130301 0.02240696 0.00427091 0.00525322 0.00938583 0.00351326\n",
            " 0.00401842 0.00532146 0.07798688 0.02174901 0.06711483 0.15389236\n",
            " 0.01064421 0.02026604 0.0318016  0.14466327 0.01012018 0.00521012]\n"
          ]
        }
      ]
    },
    {
      "cell_type": "code",
      "source": [
        "#4. Train a Random Forest Regressor and compare its performance with a single Decision Tree.\n",
        "from sklearn.ensemble import RandomForestRegressor\n",
        "from sklearn.tree import DecisionTreeRegressor\n",
        "from sklearn.datasets import load_diabetes\n",
        "from sklearn.model_selection import train_test_split\n",
        "from sklearn.metrics import mean_squared_error\n",
        "\n",
        "\n",
        "x,y = load_diabetes(return_X_y=  True)\n",
        "x_train,x_test,y_train,y_test = train_test_split(x,y,test_size=0.2,random_state=1)\n",
        "\n",
        "model1 = DecisionTreeRegressor()\n",
        "model1.fit(x_train,y_train)\n",
        "y_pred1 = model1.predict(x_test)\n",
        "mse1 = mean_squared_error(y_test,y_pred1)\n",
        "\n",
        "print(f\"mean squred error (Decision Tree) = {mse1}\" )\n",
        "\n",
        "model2 = RandomForestRegressor()\n",
        "model2.fit(x_train,y_train)\n",
        "y_pred2 = model2.predict(x_test)\n",
        "mse2 = mean_squared_error(y_test,y_pred2)\n",
        "print(f\"mean squred error (Random Forest) = {mse2}\" )\n"
      ],
      "metadata": {
        "colab": {
          "base_uri": "https://localhost:8080/"
        },
        "id": "j_iKS_7xHNUs",
        "outputId": "d4a0597e-ac01-4fa3-b2f4-a7ec547c7e2b"
      },
      "execution_count": null,
      "outputs": [
        {
          "output_type": "stream",
          "name": "stdout",
          "text": [
            "mean squred error (Decision Tree) = 6611.5842696629215\n",
            "mean squred error (Random Forest) = 3748.5019022471906\n"
          ]
        }
      ]
    },
    {
      "cell_type": "code",
      "source": [
        "#5. Compute the Out-of-Bag (OOB) Score for a Random Forest Classifier\n",
        "from sklearn.ensemble import RandomForestClassifier\n",
        "from sklearn.datasets import load_iris\n",
        "from sklearn.model_selection import train_test_split\n",
        "\n",
        "x,y = load_iris(return_X_y = True)\n",
        "x_train,x_test,y_train,y_test = train_test_split(x,y,test_size=0.2,random_state=42)\n",
        "\n",
        "\n",
        "rfc = RandomForestClassifier(n_estimators=100,oob_score=True,random_state=42)\n",
        "rfc.fit(x_train,y_train)\n",
        "oob_score = rfc.oob_score_\n",
        "oob_score"
      ],
      "metadata": {
        "colab": {
          "base_uri": "https://localhost:8080/"
        },
        "id": "H1wJC3BQJKs4",
        "outputId": "ed157a54-9208-42e2-ba2a-3d718297985b"
      },
      "execution_count": null,
      "outputs": [
        {
          "output_type": "execute_result",
          "data": {
            "text/plain": [
              "0.9166666666666666"
            ]
          },
          "metadata": {},
          "execution_count": 6
        }
      ]
    },
    {
      "cell_type": "code",
      "source": [
        "#6. Train a Bagging Classifier using SVM as a base estimator and print accuracy.\n",
        "from sklearn.ensemble import BaggingClassifier\n",
        "from sklearn.svm import SVC\n",
        "from sklearn.datasets import load_iris\n",
        "from sklearn.model_selection import train_test_split\n",
        "from sklearn.metrics import accuracy_score\n",
        "\n",
        "x,y = load_iris(return_X_y=True)\n",
        "x_train,x_test,y_train,y_test = train_test_split(x,y,test_size=0.2,random_state=42)\n",
        "\n",
        "bc = BaggingClassifier(estimator=SVC(),n_estimators=10,random_state=42)\n",
        "bc.fit(x_train,y_train)\n",
        "y_pred = bc.predict(x_test)\n",
        "\n",
        "acc_score = accuracy_score(y_test,y_pred)\n",
        "acc_score"
      ],
      "metadata": {
        "colab": {
          "base_uri": "https://localhost:8080/"
        },
        "id": "umbeD_N4JxLy",
        "outputId": "675e91a7-d1b0-4c3a-db29-234723af47fb"
      },
      "execution_count": null,
      "outputs": [
        {
          "output_type": "execute_result",
          "data": {
            "text/plain": [
              "1.0"
            ]
          },
          "metadata": {},
          "execution_count": 7
        }
      ]
    },
    {
      "cell_type": "code",
      "source": [
        "#7. Train a Random Forest Classifier with different numbers of trees and compare accuracy.\n",
        "from sklearn.ensemble import RandomForestClassifier\n",
        "from sklearn.datasets import load_breast_cancer\n",
        "from sklearn.model_selection import train_test_split\n",
        "from sklearn.metrics import accuracy_score\n",
        "import matplotlib.pyplot as plt\n",
        "\n",
        "\n",
        "x, y = load_breast_cancer(return_X_y=True)\n",
        "x_train, x_test, y_train, y_test = train_test_split(x, y, test_size=0.2, random_state=42)\n",
        "\n",
        "n_estimators_range = [10, 50, 100, 200, 500]\n",
        "accuracy_scores = []\n",
        "\n",
        "for n in n_estimators_range:\n",
        "    rfc = RandomForestClassifier(n_estimators=n, random_state=42)\n",
        "    rfc.fit(x_train, y_train)\n",
        "    y_pred = rfc.predict(x_test)\n",
        "    accuracy = accuracy_score(y_test, y_pred)\n",
        "    accuracy_scores.append(accuracy)\n",
        "    print(f\"Number of trees: {n}, Accuracy: {accuracy}\")\n",
        "\n",
        "\n",
        "plt.figure(figsize=(10, 6))\n",
        "plt.plot(n_estimators_range, accuracy_scores, marker='o')\n",
        "plt.xlabel(\"Number of Trees (n_estimators)\")\n",
        "plt.ylabel(\"Accuracy Score\")\n",
        "plt.title(\"Random Forest Accuracy vs. Number of Trees\")\n",
        "plt.grid(True)\n",
        "plt.show()"
      ],
      "metadata": {
        "colab": {
          "base_uri": "https://localhost:8080/",
          "height": 653
        },
        "id": "dTUpBjoMLFF-",
        "outputId": "39e50142-35b4-47fe-c824-fb0d87850684"
      },
      "execution_count": null,
      "outputs": [
        {
          "output_type": "stream",
          "name": "stdout",
          "text": [
            "Number of trees: 10, Accuracy: 0.956140350877193\n",
            "Number of trees: 50, Accuracy: 0.9649122807017544\n",
            "Number of trees: 100, Accuracy: 0.9649122807017544\n",
            "Number of trees: 200, Accuracy: 0.9649122807017544\n",
            "Number of trees: 500, Accuracy: 0.9649122807017544\n"
          ]
        },
        {
          "output_type": "display_data",
          "data": {
            "text/plain": [
              "<Figure size 1000x600 with 1 Axes>"
            ],
            "image/png": "[encoded data removed]"
          },
          "metadata": {}
        }
      ]
    },
    {
      "cell_type": "code",
      "source": [
        "#8. Train a Bagging Classifier using Logistic Regression as a base estimator and print AUC score.\n",
        "from sklearn.ensemble import BaggingClassifier\n",
        "from sklearn.linear_model import LogisticRegression\n",
        "from sklearn.datasets import load_iris\n",
        "from sklearn.model_selection import train_test_split\n",
        "from sklearn.metrics import roc_auc_score\n",
        "\n",
        "\n",
        "x,y = load_iris(return_X_y = True)\n",
        "\n",
        "\n",
        "x_train,x_test,y_train,y_test = train_test_split(x,y,test_size = 0.20,random_state = 1)\n",
        "\n",
        "bc = BaggingClassifier(estimator=LogisticRegression(max_iter=1000),n_estimators=10,random_state=42)\n",
        "bc.fit(x_train,y_train)\n",
        "\n",
        "\n",
        "y_pred_proba = bc.predict_proba(x_test)\n",
        "\n",
        "\n",
        "auc_score = roc_auc_score(y_test, y_pred_proba, multi_class='ovr')\n",
        "print(auc_score)"
      ],
      "metadata": {
        "colab": {
          "base_uri": "https://localhost:8080/"
        },
        "id": "qXsswHuNMp0v",
        "outputId": "743e4449-6e53-43f7-bd32-c02fb88ef534"
      },
      "execution_count": 30,
      "outputs": [
        {
          "output_type": "stream",
          "name": "stdout",
          "text": [
            "1.0\n"
          ]
        }
      ]
    },
    {
      "cell_type": "code",
      "source": [
        "#9. Train a Random Forest Regressor and analyze feature importance scores.\n",
        "from sklearn.ensemble import RandomForestRegressor\n",
        "from sklearn.datasets import load_diabetes\n",
        "from sklearn.model_selection import train_test_split\n",
        "import pandas as pd\n",
        "\n",
        "\n",
        "x, y = load_diabetes(return_X_y=True)\n",
        "feature_names = load_diabetes().feature_names\n",
        "\n",
        "x_train, x_test, y_train, y_test = train_test_split(x, y, test_size=0.2, random_state=42)\n",
        "\n",
        "\n",
        "model = RandomForestRegressor(n_estimators=100, random_state=42)\n",
        "model.fit(x_train, y_train)\n",
        "\n",
        "\n",
        "feature_importance = model.feature_importances_\n",
        "\n",
        "\n",
        "importance_df = pd.DataFrame({'feature': feature_names, 'importance': feature_importance})\n",
        "\n",
        "\n",
        "importance_df"
      ],
      "metadata": {
        "colab": {
          "base_uri": "https://localhost:8080/",
          "height": 363
        },
        "id": "Zi-2hIjVNW65",
        "outputId": "006362f2-a002-4b71-fc43-fccfc140c91b"
      },
      "execution_count": null,
      "outputs": [
        {
          "output_type": "execute_result",
          "data": {
            "text/plain": [
              "  feature  importance\n",
              "0     age    0.058642\n",
              "1     sex    0.009633\n",
              "2     bmi    0.355469\n",
              "3      bp    0.088408\n",
              "4      s1    0.052784\n",
              "5      s2    0.057227\n",
              "6      s3    0.051339\n",
              "7      s4    0.024213\n",
              "8      s5    0.230957\n",
              "9      s6    0.071329"
            ],
            "text/html": [
              "\n",
              "  <div id=\"df-030505e0-de6f-4b7c-9dfc-919959d3c6da\" class=\"colab-df-container\">\n",
              "    <div>\n",
              "<style scoped>\n",
              "    .dataframe tbody tr th:only-of-type {\n",
              "        vertical-align: middle;\n",
              "    }\n",
              "\n",
              "    .dataframe tbody tr th {\n",
              "        vertical-align: top;\n",
              "    }\n",
              "\n",
              "    .dataframe thead th {\n",
              "        text-align: right;\n",
              "    }\n",
              "</style>\n",
              "<table border=\"1\" class=\"dataframe\">\n",
              "  <thead>\n",
              "    <tr style=\"text-align: right;\">\n",
              "      <th></th>\n",
              "      <th>feature</th>\n",
              "      <th>importance</th>\n",
              "    </tr>\n",
              "  </thead>\n",
              "  <tbody>\n",
              "    <tr>\n",
              "      <th>0</th>\n",
              "      <td>age</td>\n",
              "      <td>0.058642</td>\n",
              "    </tr>\n",
              "    <tr>\n",
              "      <th>1</th>\n",
              "      <td>sex</td>\n",
              "      <td>0.009633</td>\n",
              "    </tr>\n",
              "    <tr>\n",
              "      <th>2</th>\n",
              "      <td>bmi</td>\n",
              "      <td>0.355469</td>\n",
              "    </tr>\n",
              "    <tr>\n",
              "      <th>3</th>\n",
              "      <td>bp</td>\n",
              "      <td>0.088408</td>\n",
              "    </tr>\n",
              "    <tr>\n",
              "      <th>4</th>\n",
              "      <td>s1</td>\n",
              "      <td>0.052784</td>\n",
              "    </tr>\n",
              "    <tr>\n",
              "      <th>5</th>\n",
              "      <td>s2</td>\n",
              "      <td>0.057227</td>\n",
              "    </tr>\n",
              "    <tr>\n",
              "      <th>6</th>\n",
              "      <td>s3</td>\n",
              "      <td>0.051339</td>\n",
              "    </tr>\n",
              "    <tr>\n",
              "      <th>7</th>\n",
              "      <td>s4</td>\n",
              "      <td>0.024213</td>\n",
              "    </tr>\n",
              "    <tr>\n",
              "      <th>8</th>\n",
              "      <td>s5</td>\n",
              "      <td>0.230957</td>\n",
              "    </tr>\n",
              "    <tr>\n",
              "      <th>9</th>\n",
              "      <td>s6</td>\n",
              "      <td>0.071329</td>\n",
              "    </tr>\n",
              "  </tbody>\n",
              "</table>\n",
              "</div>\n",
              "    <div class=\"colab-df-buttons\">\n",
              "\n",
              "  <div class=\"colab-df-container\">\n",
              "    <button class=\"colab-df-convert\" onclick=\"convertToInteractive('df-030505e0-de6f-4b7c-9dfc-919959d3c6da')\"\n",
              "            title=\"Convert this dataframe to an interactive table.\"\n",
              "            style=\"display:none;\">\n",
              "\n",
              "  <svg xmlns=\"http://www.w3.org/2000/svg\" height=\"24px\" viewBox=\"0 -960 960 960\">\n",
              "    <path d=\"M120-120v-720h720v720H120Zm60-500h600v-160H180v160Zm220 220h160v-160H400v160Zm0 220h160v-160H400v160ZM180-400h160v-160H180v160Zm440 0h160v-160H620v160ZM180-180h160v-160H180v160Zm440 0h160v-160H620v160Z\"/>\n",
              "  </svg>\n",
              "    </button>\n",
              "\n",
              "  <style>\n",
              "    .colab-df-container {\n",
              "      display:flex;\n",
              "      gap: 12px;\n",
              "    }\n",
              "\n",
              "    .colab-df-convert {\n",
              "      background-color: #E8F0FE;\n",
              "      border: none;\n",
              "      border-radius: 50%;\n",
              "      cursor: pointer;\n",
              "      display: none;\n",
              "      fill: #1967D2;\n",
              "      height: 32px;\n",
              "      padding: 0 0 0 0;\n",
              "      width: 32px;\n",
              "    }\n",
              "\n",
              "    .colab-df-convert:hover {\n",
              "      background-color: #E2EBFA;\n",
              "      box-shadow: 0px 1px 2px rgba(60, 64, 67, 0.3), 0px 1px 3px 1px rgba(60, 64, 67, 0.15);\n",
              "      fill: #174EA6;\n",
              "    }\n",
              "\n",
              "    .colab-df-buttons div {\n",
              "      margin-bottom: 4px;\n",
              "    }\n",
              "\n",
              "    [theme=dark] .colab-df-convert {\n",
              "      background-color: #3B4455;\n",
              "      fill: #D2E3FC;\n",
              "    }\n",
              "\n",
              "    [theme=dark] .colab-df-convert:hover {\n",
              "      background-color: #434B5C;\n",
              "      box-shadow: 0px 1px 3px 1px rgba(0, 0, 0, 0.15);\n",
              "      filter: drop-shadow(0px 1px 2px rgba(0, 0, 0, 0.3));\n",
              "      fill: #FFFFFF;\n",
              "    }\n",
              "  </style>\n",
              "\n",
              "    <script>\n",
              "      const buttonEl =\n",
              "        document.querySelector('#df-030505e0-de6f-4b7c-9dfc-919959d3c6da button.colab-df-convert');\n",
              "      buttonEl.style.display =\n",
              "        google.colab.kernel.accessAllowed ? 'block' : 'none';\n",
              "\n",
              "      async function convertToInteractive(key) {\n",
              "        const element = document.querySelector('#df-030505e0-de6f-4b7c-9dfc-919959d3c6da');\n",
              "        const dataTable =\n",
              "          await google.colab.kernel.invokeFunction('convertToInteractive',\n",
              "                                                    [key], {});\n",
              "        if (!dataTable) return;\n",
              "\n",
              "        const docLinkHtml = 'Like what you see? Visit the ' +\n",
              "          '<a target=\"_blank\" href=https://colab.research.google.com/notebooks/data_table.ipynb>data table notebook</a>'\n",
              "          + ' to learn more about interactive tables.';\n",
              "        element.innerHTML = '';\n",
              "        dataTable['output_type'] = 'display_data';\n",
              "        await google.colab.output.renderOutput(dataTable, element);\n",
              "        const docLink = document.createElement('div');\n",
              "        docLink.innerHTML = docLinkHtml;\n",
              "        element.appendChild(docLink);\n",
              "      }\n",
              "    </script>\n",
              "  </div>\n",
              "\n",
              "\n",
              "    <div id=\"df-5b340fc8-b42b-4034-96e6-843dc1dfbbe4\">\n",
              "      <button class=\"colab-df-quickchart\" onclick=\"quickchart('df-5b340fc8-b42b-4034-96e6-843dc1dfbbe4')\"\n",
              "                title=\"Suggest charts\"\n",
              "                style=\"display:none;\">\n",
              "\n",
              "<svg xmlns=\"http://www.w3.org/2000/svg\" height=\"24px\"viewBox=\"0 0 24 24\"\n",
              "     width=\"24px\">\n",
              "    <g>\n",
              "        <path d=\"M19 3H5c-1.1 0-2 .9-2 2v14c0 1.1.9 2 2 2h14c1.1 0 2-.9 2-2V5c0-1.1-.9-2-2-2zM9 17H7v-7h2v7zm4 0h-2V7h2v10zm4 0h-2v-4h2v4z\"/>\n",
              "    </g>\n",
              "</svg>\n",
              "      </button>\n",
              "\n",
              "<style>\n",
              "  .colab-df-quickchart {\n",
              "      --bg-color: #E8F0FE;\n",
              "      --fill-color: #1967D2;\n",
              "      --hover-bg-color: #E2EBFA;\n",
              "      --hover-fill-color: #174EA6;\n",
              "      --disabled-fill-color: #AAA;\n",
              "      --disabled-bg-color: #DDD;\n",
              "  }\n",
              "\n",
              "  [theme=dark] .colab-df-quickchart {\n",
              "      --bg-color: #3B4455;\n",
              "      --fill-color: #D2E3FC;\n",
              "      --hover-bg-color: #434B5C;\n",
              "      --hover-fill-color: #FFFFFF;\n",
              "      --disabled-bg-color: #3B4455;\n",
              "      --disabled-fill-color: #666;\n",
              "  }\n",
              "\n",
              "  .colab-df-quickchart {\n",
              "    background-color: var(--bg-color);\n",
              "    border: none;\n",
              "    border-radius: 50%;\n",
              "    cursor: pointer;\n",
              "    display: none;\n",
              "    fill: var(--fill-color);\n",
              "    height: 32px;\n",
              "    padding: 0;\n",
              "    width: 32px;\n",
              "  }\n",
              "\n",
              "  .colab-df-quickchart:hover {\n",
              "    background-color: var(--hover-bg-color);\n",
              "    box-shadow: 0 1px 2px rgba(60, 64, 67, 0.3), 0 1px 3px 1px rgba(60, 64, 67, 0.15);\n",
              "    fill: var(--button-hover-fill-color);\n",
              "  }\n",
              "\n",
              "  .colab-df-quickchart-complete:disabled,\n",
              "  .colab-df-quickchart-complete:disabled:hover {\n",
              "    background-color: var(--disabled-bg-color);\n",
              "    fill: var(--disabled-fill-color);\n",
              "    box-shadow: none;\n",
              "  }\n",
              "\n",
              "  .colab-df-spinner {\n",
              "    border: 2px solid var(--fill-color);\n",
              "    border-color: transparent;\n",
              "    border-bottom-color: var(--fill-color);\n",
              "    animation:\n",
              "      spin 1s steps(1) infinite;\n",
              "  }\n",
              "\n",
              "  @keyframes spin {\n",
              "    0% {\n",
              "      border-color: transparent;\n",
              "      border-bottom-color: var(--fill-color);\n",
              "      border-left-color: var(--fill-color);\n",
              "    }\n",
              "    20% {\n",
              "      border-color: transparent;\n",
              "      border-left-color: var(--fill-color);\n",
              "      border-top-color: var(--fill-color);\n",
              "    }\n",
              "    30% {\n",
              "      border-color: transparent;\n",
              "      border-left-color: var(--fill-color);\n",
              "      border-top-color: var(--fill-color);\n",
              "      border-right-color: var(--fill-color);\n",
              "    }\n",
              "    40% {\n",
              "      border-color: transparent;\n",
              "      border-right-color: var(--fill-color);\n",
              "      border-top-color: var(--fill-color);\n",
              "    }\n",
              "    60% {\n",
              "      border-color: transparent;\n",
              "      border-right-color: var(--fill-color);\n",
              "    }\n",
              "    80% {\n",
              "      border-color: transparent;\n",
              "      border-right-color: var(--fill-color);\n",
              "      border-bottom-color: var(--fill-color);\n",
              "    }\n",
              "    90% {\n",
              "      border-color: transparent;\n",
              "      border-bottom-color: var(--fill-color);\n",
              "    }\n",
              "  }\n",
              "</style>\n",
              "\n",
              "      <script>\n",
              "        async function quickchart(key) {\n",
              "          const quickchartButtonEl =\n",
              "            document.querySelector('#' + key + ' button');\n",
              "          quickchartButtonEl.disabled = true;  // To prevent multiple clicks.\n",
              "          quickchartButtonEl.classList.add('colab-df-spinner');\n",
              "          try {\n",
              "            const charts = await google.colab.kernel.invokeFunction(\n",
              "                'suggestCharts', [key], {});\n",
              "          } catch (error) {\n",
              "            console.error('Error during call to suggestCharts:', error);\n",
              "          }\n",
              "          quickchartButtonEl.classList.remove('colab-df-spinner');\n",
              "          quickchartButtonEl.classList.add('colab-df-quickchart-complete');\n",
              "        }\n",
              "        (() => {\n",
              "          let quickchartButtonEl =\n",
              "            document.querySelector('#df-5b340fc8-b42b-4034-96e6-843dc1dfbbe4 button');\n",
              "          quickchartButtonEl.style.display =\n",
              "            google.colab.kernel.accessAllowed ? 'block' : 'none';\n",
              "        })();\n",
              "      </script>\n",
              "    </div>\n",
              "\n",
              "  <div id=\"id_51aa7702-b31a-47cf-91be-7ebcb1923c6b\">\n",
              "    <style>\n",
              "      .colab-df-generate {\n",
              "        background-color: #E8F0FE;\n",
              "        border: none;\n",
              "        border-radius: 50%;\n",
              "        cursor: pointer;\n",
              "        display: none;\n",
              "        fill: #1967D2;\n",
              "        height: 32px;\n",
              "        padding: 0 0 0 0;\n",
              "        width: 32px;\n",
              "      }\n",
              "\n",
              "      .colab-df-generate:hover {\n",
              "        background-color: #E2EBFA;\n",
              "        box-shadow: 0px 1px 2px rgba(60, 64, 67, 0.3), 0px 1px 3px 1px rgba(60, 64, 67, 0.15);\n",
              "        fill: #174EA6;\n",
              "      }\n",
              "\n",
              "      [theme=dark] .colab-df-generate {\n",
              "        background-color: #3B4455;\n",
              "        fill: #D2E3FC;\n",
              "      }\n",
              "\n",
              "      [theme=dark] .colab-df-generate:hover {\n",
              "        background-color: #434B5C;\n",
              "        box-shadow: 0px 1px 3px 1px rgba(0, 0, 0, 0.15);\n",
              "        filter: drop-shadow(0px 1px 2px rgba(0, 0, 0, 0.3));\n",
              "        fill: #FFFFFF;\n",
              "      }\n",
              "    </style>\n",
              "    <button class=\"colab-df-generate\" onclick=\"generateWithVariable('importance_df')\"\n",
              "            title=\"Generate code using this dataframe.\"\n",
              "            style=\"display:none;\">\n",
              "\n",
              "  <svg xmlns=\"http://www.w3.org/2000/svg\" height=\"24px\"viewBox=\"0 0 24 24\"\n",
              "       width=\"24px\">\n",
              "    <path d=\"M7,19H8.4L18.45,9,17,7.55,7,17.6ZM5,21V16.75L18.45,3.32a2,2,0,0,1,2.83,0l1.4,1.43a1.91,1.91,0,0,1,.58,1.4,1.91,1.91,0,0,1-.58,1.4L9.25,21ZM18.45,9,17,7.55Zm-12,3A5.31,5.31,0,0,0,4.9,8.1,5.31,5.31,0,0,0,1,6.5,5.31,5.31,0,0,0,4.9,4.9,5.31,5.31,0,0,0,6.5,1,5.31,5.31,0,0,0,8.1,4.9,5.31,5.31,0,0,0,12,6.5,5.46,5.46,0,0,0,6.5,12Z\"/>\n",
              "  </svg>\n",
              "    </button>\n",
              "    <script>\n",
              "      (() => {\n",
              "      const buttonEl =\n",
              "        document.querySelector('#id_51aa7702-b31a-47cf-91be-7ebcb1923c6b button.colab-df-generate');\n",
              "      buttonEl.style.display =\n",
              "        google.colab.kernel.accessAllowed ? 'block' : 'none';\n",
              "\n",
              "      buttonEl.onclick = () => {\n",
              "        google.colab.notebook.generateWithVariable('importance_df');\n",
              "      }\n",
              "      })();\n",
              "    </script>\n",
              "  </div>\n",
              "\n",
              "    </div>\n",
              "  </div>\n"
            ],
            "application/vnd.google.colaboratory.intrinsic+json": {
              "type": "dataframe",
              "variable_name": "importance_df",
              "summary": "{\n  \"name\": \"importance_df\",\n  \"rows\": 10,\n  \"fields\": [\n    {\n      \"column\": \"feature\",\n      \"properties\": {\n        \"dtype\": \"string\",\n        \"num_unique_values\": 10,\n        \"samples\": [\n          \"s5\",\n          \"sex\",\n          \"s2\"\n        ],\n        \"semantic_type\": \"\",\n        \"description\": \"\"\n      }\n    },\n    {\n      \"column\": \"importance\",\n      \"properties\": {\n        \"dtype\": \"number\",\n        \"std\": 0.10822699323240716,\n        \"min\": 0.009633039133228249,\n        \"max\": 0.3554689806456928,\n        \"num_unique_values\": 10,\n        \"samples\": [\n          0.23095697899324044,\n          0.009633039133228249,\n          0.057227489312872644\n        ],\n        \"semantic_type\": \"\",\n        \"description\": \"\"\n      }\n    }\n  ]\n}"
            }
          },
          "metadata": {},
          "execution_count": 10
        }
      ]
    },
    {
      "cell_type": "code",
      "source": [
        "#10. Train an ensemble model using both Bagging and Random Forest and compare accuracy.\n",
        "from sklearn.ensemble import RandomForestClassifier, BaggingClassifier\n",
        "from sklearn.datasets import load_breast_cancer\n",
        "from sklearn.model_selection import train_test_split\n",
        "from sklearn.metrics import accuracy_score\n",
        "\n",
        "x,y = load_breast_cancer(return_X_y = True)\n",
        "x_train,x_test,y_train,y_test = train_test_split(x,y,test_size=0.2,random_state=42)\n",
        "\n",
        "\n",
        "model1 = RandomForestClassifier(n_estimators=100,random_state=42)\n",
        "model1.fit(x_train,y_train)\n",
        "y_pred1 = model1.predict(x_test)\n",
        "acc_score1 = accuracy_score(y_test,y_pred1)\n",
        "print(f\"Random Forest Accuracy : {acc_score1}\")\n",
        "\n",
        "\n",
        "model2 = BaggingClassifier(n_estimators=100,random_state=42)\n",
        "model2.fit(x_train,y_train)\n",
        "y_pred2 = model2.predict(x_test)\n",
        "acc_score2 = accuracy_score(y_test,y_pred)\n",
        "print(f\"Bagging Accuray : {acc_score2}\")\n"
      ],
      "metadata": {
        "colab": {
          "base_uri": "https://localhost:8080/"
        },
        "id": "gDXyJNDxNprG",
        "outputId": "21b8aa01-8d3c-4859-c8f1-3830c5c274c5"
      },
      "execution_count": null,
      "outputs": [
        {
          "output_type": "stream",
          "name": "stdout",
          "text": [
            "Random Forest Accuracy : 0.9649122807017544\n",
            "Bagging Accuray : 0.5789473684210527\n"
          ]
        }
      ]
    },
    {
      "cell_type": "code",
      "source": [
        "#11. Train a Random Forest Classifier and tune hyperparameters using GridSearchCV.\n",
        "from sklearn.ensemble import RandomForestClassifier\n",
        "from sklearn.datasets import load_breast_cancer\n",
        "from sklearn.model_selection import train_test_split, GridSearchCV\n",
        "from sklearn.metrics import accuracy_score\n",
        "\n",
        "x,y = load_breast_cancer(return_X_y = True)\n",
        "x_train,x_test,y_train,y_test = train_test_split(x,y,test_size=0.2,random_state=42)\n",
        "\n",
        "param_grid {\n",
        "    \"n_estimators\": [50, 100, 200],\n",
        "    \"max_depth\": [None, 10, 20],\n",
        "    \"min_samples_split\": [2, 5, 10],\n",
        "    \"min_samples_leaf\": [1, 2, 4]\n",
        "}\n",
        "\n",
        "rfc = RandomForestClassifier(random_state=42)\n",
        "grid_search = GridSearchCV(estimator=rfc, param_grid=param_grid, cv=5)\n",
        "grid_search.fit(x_train, y_train)\n",
        "\n",
        "best_params = grid_search.best_params_\n",
        "print(\"Best Hyperparameters:\", best_params)\n",
        "\n"
      ],
      "metadata": {
        "id": "Oxs96eB4PPTf"
      },
      "execution_count": null,
      "outputs": []
    },
    {
      "cell_type": "code",
      "source": [
        "#12. Train a Bagging Regressor with different numbers of base estimators and compare performance.\n",
        "from sklearn.ensemble import BaggingRegressor\n",
        "from sklearn.tree import DecisionTreeRegressor\n",
        "from sklearn.datasets import load_diabetes\n",
        "from sklearn.model_selection import train_test_split\n",
        "from sklearn.metrics import mean_squared_error\n",
        "import matplotlib.pyplot as plt\n",
        "\n",
        "x, y = load_diabetes(return_X_y=True)\n",
        "x_train, x_test, y_train, y_test = train_test_split(x, y, test_size=0.2, random_state=42)\n",
        "\n",
        "n_estimators_range = [10, 50, 100, 200, 500]\n",
        "mse_scores = []\n",
        "\n",
        "for n in n_estimators_range:\n",
        "    br = BaggingRegressor(estimator=DecisionTreeRegressor(), n_estimators=n, random_state=42)\n",
        "    br.fit(x_train, y_train)\n",
        "    y_pred = br.predict(x_test)\n",
        "    mse = mean_squared_error(y_test, y_pred)\n",
        "    mse_scores.append(mse)\n",
        "    print(f\"Number of estimators: {n}, MSE: {mse}\")\n",
        "\n"
      ],
      "metadata": {
        "id": "ODe81VVBKrhB",
        "colab": {
          "base_uri": "https://localhost:8080/"
        },
        "outputId": "9bb5137e-ff4e-47f0-dd94-75e1687dd57e"
      },
      "execution_count": 17,
      "outputs": [
        {
          "output_type": "stream",
          "name": "stdout",
          "text": [
            "Number of estimators: 10, MSE: 3256.961797752809\n",
            "Number of estimators: 50, MSE: 3056.494602247191\n",
            "Number of estimators: 100, MSE: 2970.863235955056\n",
            "Number of estimators: 200, MSE: 2995.6186106741575\n",
            "Number of estimators: 500, MSE: 3018.4847409887634\n"
          ]
        }
      ]
    },
    {
      "cell_type": "code",
      "source": [
        "#13. Train a Random Forest Classifier and analyze misclassified samples.\n",
        "from sklearn.ensemble import RandomForestClassifier\n",
        "from sklearn.datasets import load_breast_cancer\n",
        "from sklearn.model_selection import train_test_split\n",
        "from sklearn.metrics import classification_report\n",
        "import pandas as pd\n",
        "\n",
        "\n",
        "x, y = load_breast_cancer(return_X_y=True)\n",
        "feature_names = load_breast_cancer().feature_names\n",
        "target_names = load_breast_cancer().target_names\n",
        "\n",
        "x_train, x_test, y_train, y_test = train_test_split(x, y, test_size=0.2, random_state=42)\n",
        "\n",
        "\n",
        "rfc = RandomForestClassifier(n_estimators=100, random_state=42)\n",
        "rfc.fit(x_train, y_train)\n",
        "\n",
        "\n",
        "y_pred = rfc.predict(x_test)\n",
        "\n",
        "\n",
        "misclassified_indices = [i for i, (true, pred) in enumerate(zip(y_test, y_pred)) if true != pred]\n",
        "\n",
        "print(\"Misclassified Samples:\")\n",
        "for i in misclassified_indices:\n",
        "    print(f\"Sample Index: {i}\")\n",
        "    print(f\"  True Label: {target_names[y_test[i]]}\")\n",
        "    print(f\"  Predicted Label: {target_names[y_pred[i]]}\")\n",
        "    print(\"  Features:\")\n",
        "    for j, feature in enumerate(feature_names):\n",
        "        print(f\"    {feature}: {x_test[i][j]}\")\n",
        "    print(\"-\" * 20)\n",
        "\n"
      ],
      "metadata": {
        "colab": {
          "base_uri": "https://localhost:8080/"
        },
        "id": "qq0uyhXsMer4",
        "outputId": "899c8766-f307-4be2-b126-32fc181f605c"
      },
      "execution_count": 18,
      "outputs": [
        {
          "output_type": "stream",
          "name": "stdout",
          "text": [
            "Misclassified Samples:\n",
            "Sample Index: 8\n",
            "  True Label: benign\n",
            "  Predicted Label: malignant\n",
            "  Features:\n",
            "    mean radius: 13.34\n",
            "    mean texture: 15.86\n",
            "    mean perimeter: 86.49\n",
            "    mean area: 520.0\n",
            "    mean smoothness: 0.1078\n",
            "    mean compactness: 0.1535\n",
            "    mean concavity: 0.1169\n",
            "    mean concave points: 0.06987\n",
            "    mean symmetry: 0.1942\n",
            "    mean fractal dimension: 0.06902\n",
            "    radius error: 0.286\n",
            "    texture error: 1.016\n",
            "    perimeter error: 1.535\n",
            "    area error: 12.96\n",
            "    smoothness error: 0.006794\n",
            "    compactness error: 0.03575\n",
            "    concavity error: 0.0398\n",
            "    concave points error: 0.01383\n",
            "    symmetry error: 0.02134\n",
            "    fractal dimension error: 0.004603\n",
            "    worst radius: 15.53\n",
            "    worst texture: 23.19\n",
            "    worst perimeter: 96.66\n",
            "    worst area: 614.9\n",
            "    worst smoothness: 0.1536\n",
            "    worst compactness: 0.4791\n",
            "    worst concavity: 0.4858\n",
            "    worst concave points: 0.1708\n",
            "    worst symmetry: 0.3527\n",
            "    worst fractal dimension: 0.1016\n",
            "--------------------\n",
            "Sample Index: 20\n",
            "  True Label: malignant\n",
            "  Predicted Label: benign\n",
            "  Features:\n",
            "    mean radius: 13.8\n",
            "    mean texture: 15.79\n",
            "    mean perimeter: 90.43\n",
            "    mean area: 584.1\n",
            "    mean smoothness: 0.1007\n",
            "    mean compactness: 0.128\n",
            "    mean concavity: 0.07789\n",
            "    mean concave points: 0.05069\n",
            "    mean symmetry: 0.1662\n",
            "    mean fractal dimension: 0.06566\n",
            "    radius error: 0.2787\n",
            "    texture error: 0.6205\n",
            "    perimeter error: 1.957\n",
            "    area error: 23.35\n",
            "    smoothness error: 0.004717\n",
            "    compactness error: 0.02065\n",
            "    concavity error: 0.01759\n",
            "    concave points error: 0.009206\n",
            "    symmetry error: 0.0122\n",
            "    fractal dimension error: 0.00313\n",
            "    worst radius: 16.57\n",
            "    worst texture: 20.86\n",
            "    worst perimeter: 110.3\n",
            "    worst area: 812.4\n",
            "    worst smoothness: 0.1411\n",
            "    worst compactness: 0.3542\n",
            "    worst concavity: 0.2779\n",
            "    worst concave points: 0.1383\n",
            "    worst symmetry: 0.2589\n",
            "    worst fractal dimension: 0.103\n",
            "--------------------\n",
            "Sample Index: 77\n",
            "  True Label: malignant\n",
            "  Predicted Label: benign\n",
            "  Features:\n",
            "    mean radius: 13.96\n",
            "    mean texture: 17.05\n",
            "    mean perimeter: 91.43\n",
            "    mean area: 602.4\n",
            "    mean smoothness: 0.1096\n",
            "    mean compactness: 0.1279\n",
            "    mean concavity: 0.09789\n",
            "    mean concave points: 0.05246\n",
            "    mean symmetry: 0.1908\n",
            "    mean fractal dimension: 0.0613\n",
            "    radius error: 0.425\n",
            "    texture error: 0.8098\n",
            "    perimeter error: 2.563\n",
            "    area error: 35.74\n",
            "    smoothness error: 0.006351\n",
            "    compactness error: 0.02679\n",
            "    concavity error: 0.03119\n",
            "    concave points error: 0.01342\n",
            "    symmetry error: 0.02062\n",
            "    fractal dimension error: 0.002695\n",
            "    worst radius: 16.39\n",
            "    worst texture: 22.07\n",
            "    worst perimeter: 108.1\n",
            "    worst area: 826.0\n",
            "    worst smoothness: 0.1512\n",
            "    worst compactness: 0.3262\n",
            "    worst concavity: 0.3209\n",
            "    worst concave points: 0.1374\n",
            "    worst symmetry: 0.3068\n",
            "    worst fractal dimension: 0.07957\n",
            "--------------------\n",
            "Sample Index: 82\n",
            "  True Label: malignant\n",
            "  Predicted Label: benign\n",
            "  Features:\n",
            "    mean radius: 14.48\n",
            "    mean texture: 21.46\n",
            "    mean perimeter: 94.25\n",
            "    mean area: 648.2\n",
            "    mean smoothness: 0.09444\n",
            "    mean compactness: 0.09947\n",
            "    mean concavity: 0.1204\n",
            "    mean concave points: 0.04938\n",
            "    mean symmetry: 0.2075\n",
            "    mean fractal dimension: 0.05636\n",
            "    radius error: 0.4204\n",
            "    texture error: 2.22\n",
            "    perimeter error: 3.301\n",
            "    area error: 38.87\n",
            "    smoothness error: 0.009369\n",
            "    compactness error: 0.02983\n",
            "    concavity error: 0.05371\n",
            "    concave points error: 0.01761\n",
            "    symmetry error: 0.02418\n",
            "    fractal dimension error: 0.003249\n",
            "    worst radius: 16.21\n",
            "    worst texture: 29.25\n",
            "    worst perimeter: 108.4\n",
            "    worst area: 808.9\n",
            "    worst smoothness: 0.1306\n",
            "    worst compactness: 0.1976\n",
            "    worst concavity: 0.3349\n",
            "    worst concave points: 0.1225\n",
            "    worst symmetry: 0.302\n",
            "    worst fractal dimension: 0.06846\n",
            "--------------------\n"
          ]
        }
      ]
    },
    {
      "cell_type": "code",
      "source": [
        "#14. Train a Bagging Classifier and compare its performance with a single Decision Tree Classifier.\n",
        "from sklearn.ensemble import BaggingClassifier\n",
        "from sklearn.tree import DecisionTreeClassifier\n",
        "from sklearn.datasets import load_breast_cancer\n",
        "from sklearn.model_selection import train_test_split\n",
        "from sklearn.metrics import accuracy_score\n",
        "\n",
        "x,y = load_breast_cancer(return_X_y = True)\n",
        "\n",
        "\n",
        "x_train,x_test,y_train,y_test = train_test_split(x,y,test_size=0.2,random_state=42)\n",
        "\n",
        "model1 = DecisionTreeClassifier(random_state=42)\n",
        "model1.fit(x_train,y_train)\n",
        "y_pred1 = model1.predict(x_test)\n",
        "\n",
        "acc_score1 = accuracy_score(y_test,y_pred1)\n",
        "print(f\"Decision Tree Accuracy : {acc_score1}\")\n",
        "\n",
        "model2 = BaggingClassifier(estimator=DecisionTreeClassifier(random_state=42), n_estimators=100, random_state=42) # Added random_state for reproducibility and n_estimators\n",
        "model2.fit(x_train, y_train)\n",
        "y_pred2 = model2.predict(x_test)\n",
        "\n",
        "acc_score2 = accuracy_score(y_test, y_pred2)\n",
        "print(f\"Bagging Classifier Accuracy : {acc_score2}\")"
      ],
      "metadata": {
        "colab": {
          "base_uri": "https://localhost:8080/"
        },
        "id": "xfxNNEtMPDKH",
        "outputId": "db85d6c8-8090-4c24-e1d6-c94f32e26fda"
      },
      "execution_count": 21,
      "outputs": [
        {
          "output_type": "stream",
          "name": "stdout",
          "text": [
            "Decision Tree Accuracy : 0.9473684210526315\n",
            "Bagging Classifier Accuracy : 0.956140350877193\n"
          ]
        }
      ]
    },
    {
      "cell_type": "code",
      "source": [
        "#15. Train a Random Forest Classifier and visualize the confusion matrix.\n",
        "\n",
        "from sklearn.ensemble import RandomForestClassifier\n",
        "from sklearn.datasets import load_breast_cancer\n",
        "from sklearn.model_selection import train_test_split\n",
        "from sklearn.metrics import confusion_matrix\n",
        "import seaborn as sns\n",
        "import matplotlib.pyplot as plt\n",
        "\n",
        "\n",
        "x,y = load_breast_cancer(return_X_y = True)\n",
        "x_train,x_test,y_train,y_test = train_test_split(x,y,test_size=0.2,random_state=42)\n",
        "\n",
        "rfc= RandomForestClassifier(n_estimators = 100,random_state=42)\n",
        "rfc.fit(x_train,y_train)\n",
        "y_pred = rfc.predict(x_test)\n",
        "\n",
        "cm = confusion_matrix(y_test,y_pred)\n",
        "\n",
        "plt.figure(figsize = (8,12))\n",
        "sns.heatmap(cm,annot=True,fmt='d',cmap='Blues')\n",
        "plt.xlabel('Predicted Labels')\n",
        "plt.ylabel('True Labels')\n",
        "plt.title('Confusion Matrix')\n",
        "plt.show()"
      ],
      "metadata": {
        "colab": {
          "base_uri": "https://localhost:8080/",
          "height": 1000
        },
        "id": "tSWh7pIfPyVT",
        "outputId": "dbb0acb8-4d7c-4b64-ab25-ee97b1b2066d"
      },
      "execution_count": 23,
      "outputs": [
        {
          "output_type": "display_data",
          "data": {
            "text/plain": [
              "<Figure size 800x1200 with 2 Axes>"
            ],
            "image/png": "[encoded data removed]"
          },
          "metadata": {}
        }
      ]
    },
    {
      "cell_type": "code",
      "source": [
        "#16.  Train a Stacking Classifier using Decision Trees, SVM, and Logistic Regression, and compare accuracy.\n",
        "from sklearn.ensemble import StackingClassifier\n",
        "from sklearn.tree import DecisionTreeClassifier\n",
        "from sklearn.svm import SVC\n",
        "from sklearn.linear_model import LogisticRegression\n",
        "from sklearn.datasets import load_iris\n",
        "from sklearn.model_selection import train_test_split\n",
        "from sklearn.metrics import accuracy_score\n",
        "\n",
        "x,y =load_iris(return_X_y = True)\n",
        "x_train,x_test,y_train,y_test = train_test_split(x,y,test_size=0.2,random_state=42)\n",
        "\n",
        "\n",
        "estimators = [\n",
        "    ('dt', DecisionTreeClassifier(random_state=42)),\n",
        "    ('svc', SVC(probability=True, random_state=42)),\n",
        "    ('lr', LogisticRegression(random_state=42))\n",
        "]\n",
        "\n",
        "\n",
        "sc = StackingClassifier(estimators=estimators, final_estimator=LogisticRegression(random_state=42)) # Added random_state\n",
        "sc.fit(x_train,y_train)\n",
        "y_pred = sc.predict(x_test)\n",
        "\n",
        "\n",
        "acc_score = accuracy_score(y_test,y_pred)\n",
        "print(f\"Stacking Classifier Accuracy: {acc_score}\")\n",
        "\n",
        "\n",
        "dt = DecisionTreeClassifier(random_state=42)\n",
        "dt.fit(x_train, y_train)\n",
        "y_pred_dt = dt.predict(x_test)\n",
        "acc_dt = accuracy_score(y_test, y_pred_dt)\n",
        "print(f\"Decision Tree Accuracy: {acc_dt}\")\n",
        "\n",
        "\n",
        "svc = SVC(random_state=42)\n",
        "svc.fit(x_train, y_train)\n",
        "y_pred_svc = svc.predict(x_test)\n",
        "acc_svc = accuracy_score(y_test, y_pred_svc)\n",
        "print(f\"SVC Accuracy: {acc_svc}\")\n",
        "\n",
        "\n",
        "lr = LogisticRegression(random_state=42)\n",
        "lr.fit(x_train, y_train)\n",
        "y_pred_lr = lr.predict(x_test)\n",
        "acc_lr = accuracy_score(y_test, y_pred_lr)\n",
        "print(f\"Logistic Regression Accuracy: {acc_lr}\")"
      ],
      "metadata": {
        "colab": {
          "base_uri": "https://localhost:8080/"
        },
        "id": "wj9w2-etQ2_d",
        "outputId": "c7c1885a-7cac-4c36-d3a1-f891c3ee9547"
      },
      "execution_count": 31,
      "outputs": [
        {
          "output_type": "stream",
          "name": "stdout",
          "text": [
            "Stacking Classifier Accuracy: 1.0\n",
            "Decision Tree Accuracy: 1.0\n",
            "SVC Accuracy: 1.0\n",
            "Logistic Regression Accuracy: 1.0\n"
          ]
        }
      ]
    },
    {
      "cell_type": "code",
      "source": [
        "#17. Train a Random Forest Classifier and print the top 5 most important features.\n",
        "from sklearn.ensemble import RandomForestClassifier\n",
        "from sklearn.datasets import load_iris\n",
        "from sklearn.model_selection import train_test_split\n",
        "\n",
        "x,y  = load_iris(return_X_y = True)\n",
        "x_train,x_test,y_train,y_test = train_test_split(x,y,test_size=0.2,random_state=42)\n",
        "\n",
        "rfc = RandomForestClassifier(n_estimators=100,random_state=42)\n",
        "rfc.fit(x_train,y_train)\n",
        "\n",
        "feature_importances = rfc.feature_importances_\n",
        "feature_names = load_iris().feature_names\n",
        "feature_importance_df = pd.DataFrame({'Feature': feature_names, 'Importance': feature_importances})\n",
        "top_5_features = feature_importance_df.nlargest(5, 'Importance')\n",
        "#top_5_features = feature_importance_df.head(5)\n",
        "print(\"Top 5 Most Important Features:\")\n",
        "print(top_5_features)\n"
      ],
      "metadata": {
        "colab": {
          "base_uri": "https://localhost:8080/"
        },
        "id": "JJFHIJgPTpJH",
        "outputId": "ce0f258f-9f75-4ecb-91de-fcd4d041da1c"
      },
      "execution_count": 35,
      "outputs": [
        {
          "output_type": "stream",
          "name": "stdout",
          "text": [
            "Top 5 Most Important Features:\n",
            "             Feature  Importance\n",
            "2  petal length (cm)    0.439994\n",
            "3   petal width (cm)    0.421522\n",
            "0  sepal length (cm)    0.108098\n",
            "1   sepal width (cm)    0.030387\n"
          ]
        }
      ]
    },
    {
      "cell_type": "code",
      "source": [
        "#18. Train a Bagging Classifier and evaluate performance using Precision, Recall, and F1-score.\n",
        "from sklearn.ensemble import BaggingClassifier\n",
        "from sklearn.tree import DecisionTreeClassifier\n",
        "from sklearn.datasets import load_iris\n",
        "from sklearn.model_selection import train_test_split\n",
        "from sklearn.metrics import precision_score, recall_score, f1_score\n",
        "\n",
        "x,y = load_iris(return_X_y=True)\n",
        "x_train,x_test,y_train,y_test = train_test_split(x,y,test_size=0.2,random_state=42)\n",
        "\n",
        "bc = BaggingClassifier(estimator=DecisionTreeClassifier(random_state=42),n_estimators=10,random_state=42)\n",
        "bc.fit(x_train,y_train)\n",
        "y_pred = bc.predict(x_test)\n",
        "\n",
        "\n",
        "precision = precision_score(y_test, y_pred, average='weighted')\n",
        "recall = recall_score(y_test, y_pred, average='weighted')\n",
        "f1 = f1_score(y_test, y_pred, average='weighted')\n",
        "\n",
        "print(f\"Precision: {precision}\")\n",
        "print(f\"Recall: {recall}\")\n",
        "print(f\"F1-score: {f1}\")"
      ],
      "metadata": {
        "colab": {
          "base_uri": "https://localhost:8080/"
        },
        "id": "7Lz2AkKJWYFg",
        "outputId": "f8736c91-37ac-46db-fa6d-9a7641f4b44d"
      },
      "execution_count": 37,
      "outputs": [
        {
          "output_type": "stream",
          "name": "stdout",
          "text": [
            "Precision: 1.0\n",
            "Recall: 1.0\n",
            "F1-score: 1.0\n"
          ]
        }
      ]
    },
    {
      "cell_type": "code",
      "source": [
        "#19.  Train a Random Forest Classifier and analyze the effect of max_depth on accuracy.\n",
        "from sklearn.ensemble import RandomForestClassifier\n",
        "from sklearn.datasets import load_breast_cancer\n",
        "from sklearn.model_selection import train_test_split\n",
        "from sklearn.metrics import accuracy_score\n",
        "import matplotlib.pyplot as plt\n",
        "\n",
        "x, y = load_breast_cancer(return_X_y=True)\n",
        "x_train, x_test, y_train, y_test = train_test_split(x, y, test_size=0.2, random_state=42)\n",
        "\n",
        "max_depth_range = [1, 5, 10, 20, None]\n",
        "accuracy_scores = []\n",
        "\n",
        "for depth in max_depth_range:\n",
        "    rfc = RandomForestClassifier(n_estimators=100, max_depth=depth, random_state=42)\n",
        "    rfc.fit(x_train, y_train)\n",
        "    y_pred = rfc.predict(x_test)\n",
        "    accuracy = accuracy_score(y_test, y_pred)\n",
        "    accuracy_scores.append(accuracy)\n",
        "    print(f\"Max Depth: {depth}, Accuracy: {accuracy}\")\n"
      ],
      "metadata": {
        "colab": {
          "base_uri": "https://localhost:8080/"
        },
        "id": "GF4h3X3EXAHn",
        "outputId": "e41040f7-5e20-4650-cd04-b111bf501237"
      },
      "execution_count": 40,
      "outputs": [
        {
          "output_type": "stream",
          "name": "stdout",
          "text": [
            "Max Depth: 1, Accuracy: 0.956140350877193\n",
            "Max Depth: 5, Accuracy: 0.9649122807017544\n",
            "Max Depth: 10, Accuracy: 0.9649122807017544\n",
            "Max Depth: 20, Accuracy: 0.9649122807017544\n",
            "Max Depth: None, Accuracy: 0.9649122807017544\n"
          ]
        }
      ]
    },
    {
      "cell_type": "code",
      "source": [
        "#20. Train a Bagging Regressor using different base estimators (DecisionTree and KNeighbors) and compare performance.\n",
        "from sklearn.ensemble import BaggingRegressor\n",
        "from sklearn.tree import DecisionTreeRegressor\n",
        "from sklearn.neighbors import KNeighborsRegressor\n",
        "from sklearn.datasets import load_diabetes\n",
        "from sklearn.model_selection import train_test_split\n",
        "from sklearn.metrics import mean_squared_error\n",
        "\n",
        "x,y = load_diabetes(return_X_y=True)\n",
        "x_train,x_test,y_train,y_test = train_test_split(x,y,test_size=0.2,random_state=42)\n",
        "\n",
        "bc = BaggingRegressor(estimator=DecisionTreeRegressor(),n_estimators= 100,random_state=42)\n",
        "bc.fit(x_train,y_train)\n",
        "y_pred = bc.predict(x_test)\n",
        "mse = mean_squared_error(y_test,y_pred)\n",
        "print(f\"MSE : {mse}\")\n",
        "\n",
        "bc2 = BaggingRegressor(estimator=KNeighborsRegressor(),n_estimators=100,random_state=42)\n",
        "bc2.fit(x_train,y_train)\n",
        "y_pred2 = bc2.predict(x_test)\n",
        "mse2 = mean_squared_error(y_test,y_pred2)\n",
        "print(f\"MSE : {mse2}\")\n"
      ],
      "metadata": {
        "colab": {
          "base_uri": "https://localhost:8080/"
        },
        "id": "03ewOxmhXfuQ",
        "outputId": "cfc96900-01d6-497e-8d03-2ca32d3d0223"
      },
      "execution_count": 43,
      "outputs": [
        {
          "output_type": "stream",
          "name": "stdout",
          "text": [
            "MSE : 2970.863235955056\n",
            "MSE : 2895.6797486292135\n"
          ]
        }
      ]
    },
    {
      "cell_type": "code",
      "source": [
        "#21. Train a Random Forest Classifier and evaluate its performance using ROC-AUC Score.\n",
        "from sklearn.ensemble import RandomForestClassifier\n",
        "from sklearn.datasets import load_breast_cancer\n",
        "from sklearn.model_selection import train_test_split\n",
        "from sklearn.metrics import roc_auc_score\n",
        "\n",
        "x,y = load_breast_cancer(return_X_y=True)\n",
        "x_train,x_test,y_train,y_test = train_test_split(x,y,test_size=0.2,random_state=42)\n",
        "\n",
        "rfc = RandomForestClassifier(n_estimators=100,random_state=42)\n",
        "rfc.fit(x_train,y_train)\n",
        "y_pred = rfc.predict(x_test)\n",
        "\n",
        "roc_auc = roc_auc_score(y_test,y_pred)\n",
        "print(f\"ROC-AUC Score : {roc_auc}\")"
      ],
      "metadata": {
        "colab": {
          "base_uri": "https://localhost:8080/"
        },
        "id": "qLCBxp-PYWwY",
        "outputId": "6b86d14d-1137-4a18-e3ee-a19a27e1fc3d"
      },
      "execution_count": 47,
      "outputs": [
        {
          "output_type": "stream",
          "name": "stdout",
          "text": [
            "ROC-AUC Score : 0.9580740255486406\n"
          ]
        }
      ]
    },
    {
      "cell_type": "code",
      "source": [
        "#22. Train a Bagging Classifier and evaluate its performance using cross-validatio.\n",
        "from sklearn.ensemble import BaggingClassifier\n",
        "from sklearn.datasets import load_breast_cancer\n",
        "from sklearn.model_selection import train_test_split\n",
        "from sklearn.model_selection import cross_val_score\n",
        "\n",
        "x,y = load_breast_cancer(return_X_y=True)\n",
        "x_train,x_test,y_train,y_test = train_test_split(x,y,test_size=0.2,random_state=42)\n",
        "\n",
        "rfc = BaggingClassifier(n_estimators=100,random_state=42)\n",
        "rfc.fit(x_train,y_train)\n",
        "y_pred = rfc.predict(x_test)\n",
        "\n",
        "performance = cross_val_score(rfc,x,y,cv=5)\n",
        "print(f\"Performance : {performance}\")"
      ],
      "metadata": {
        "colab": {
          "base_uri": "https://localhost:8080/"
        },
        "id": "GeFRI1xRY3TZ",
        "outputId": "89be7248-e241-46ad-f9d3-dbce261818fc"
      },
      "execution_count": 52,
      "outputs": [
        {
          "output_type": "stream",
          "name": "stdout",
          "text": [
            "Performance : [0.89473684 0.93859649 0.99122807 0.96491228 1.        ]\n"
          ]
        }
      ]
    },
    {
      "cell_type": "code",
      "source": [
        "#23.  Train a Random Forest Classifier and plot the Precision-Recall curve.\n",
        "from sklearn.ensemble import RandomForestClassifier\n",
        "from sklearn.datasets import load_breast_cancer\n",
        "from sklearn.model_selection import train_test_split\n",
        "from sklearn.metrics import precision_recall_curve, auc\n",
        "import matplotlib.pyplot as plt\n",
        "\n",
        "x, y = load_breast_cancer(return_X_y=True)\n",
        "\n",
        "\n",
        "x_train, x_test, y_train, y_test = train_test_split(x, y, test_size=0.2, random_state=42)\n",
        "\n",
        "\n",
        "rfc = RandomForestClassifier(n_estimators=100, random_state=42)\n",
        "rfc.fit(x_train, y_train)\n",
        "\n",
        "y_scores = rfc.predict_proba(x_test)[:, 1]\n",
        "\n",
        "\n",
        "precision, recall,_ = precision_recall_curve(y_test, y_scores)\n",
        "\n",
        "\n",
        "auprc = auc(recall, precision)\n",
        "\n",
        "\n",
        "plt.figure(figsize=(8, 6))\n",
        "plt.plot(recall, precision, marker='.')\n",
        "plt.xlabel('Recall')\n",
        "plt.ylabel('Precision')\n",
        "plt.title(f'Precision-Recall Curve (AUPRC = {auprc:.2f})')\n",
        "plt.grid(True)\n",
        "plt.show()"
      ],
      "metadata": {
        "colab": {
          "base_uri": "https://localhost:8080/",
          "height": 564
        },
        "id": "SHgHdHBaZFRY",
        "outputId": "5c6da4e0-40bc-4581-93bd-e028f3a5cfca"
      },
      "execution_count": 56,
      "outputs": [
        {
          "output_type": "display_data",
          "data": {
            "text/plain": [
              "<Figure size 800x600 with 1 Axes>"
            ],
            "image/png": "[encoded data removed]"
          },
          "metadata": {}
        }
      ]
    },
    {
      "cell_type": "code",
      "source": [
        "#24. Train a Stacking Classifier with Random Forest and Logistic Regression and compare accuracy.\n",
        "from sklearn.ensemble import StackingClassifier\n",
        "from sklearn.ensemble import RandomForestClassifier\n",
        "from sklearn.linear_model import LogisticRegression\n",
        "from sklearn.datasets import load_breast_cancer\n",
        "from sklearn.model_selection import train_test_split\n",
        "from sklearn.metrics import accuracy_score\n",
        "\n",
        "x,y = load_breast_cancer(return_X_y=True)\n",
        "x_train,x_test,y_train,y_test = train_test_split(x,y,test_size=0.2,random_state=42)\n",
        "\n",
        "estimators = [\n",
        "    ('rf', RandomForestClassifier(n_estimators=100, random_state=42)),\n",
        "    ('lr', LogisticRegression(random_state=42))\n",
        "]\n",
        "\n",
        "sc = StackingClassifier(estimators = estimators,final_estimator = LogisticRegression(random_state = 42))\n",
        "\n",
        "sc.fit(x_train,y_train)\n",
        "y_pred = sc.predict(x_test)\n",
        "\n",
        "acc_score = accuracy_score(y_test,y_pred)\n",
        "print(f\"Stacking Classifier Accuracy : {acc_score}\")\n",
        "\n",
        "\n",
        "rfc = RandomForestClassifier(n_estimators=100,random_state=42)\n",
        "rfc.fit(x_train,y_train)\n",
        "y_pred_rfc = rfc.predict(x_test)\n",
        "acc__rfc = accuracy_score(y_test,y_pred_rfc)\n",
        "print(f\"Random Forest Accuracy : {acc__rfc}\")\n",
        "\n",
        "\n",
        "lr = LogisticRegression(random_state=42)\n",
        "lr.fit(x_train, y_train)\n",
        "y_pred_lr = lr.predict(x_test)\n",
        "acc_lr = accuracy_score(y_test, y_pred_lr)\n",
        "print(f\"Logistic Regression Accuracy: {acc_lr}\")"
      ],
      "metadata": {
        "colab": {
          "base_uri": "https://localhost:8080/"
        },
        "id": "xSQt3klhatha",
        "outputId": "5b8038f0-cb2e-4e5a-c52a-8dbc0557dd3e"
      },
      "execution_count": 60,
      "outputs": [
        {
          "output_type": "stream",
          "name": "stdout",
          "text": [
            "Stacking Classifier Accuracy : 0.9736842105263158\n",
            "Random Forest Accuracy : 0.9649122807017544\n",
            "Logistic Regression Accuracy: 0.956140350877193\n"
          ]
        }
      ]
    },
    {
      "cell_type": "code",
      "source": [
        "#25. Train a Bagging Regressor with different levels of bootstrap samples and compare performance.\n",
        "from sklearn.ensemble import BaggingRegressor\n",
        "from sklearn.tree import DecisionTreeRegressor\n",
        "from sklearn.datasets import load_diabetes\n",
        "from sklearn.model_selection import train_test_split\n",
        "from sklearn.metrics import mean_squared_error\n",
        "import matplotlib.pyplot as plt\n",
        "\n",
        "x, y = load_diabetes(return_X_y=True)\n",
        "x_train, x_test, y_train, y_test = train_test_split(x, y, test_size=0.2, random_state=42)\n",
        "\n",
        "\n",
        "max_samples_range = [0.5, 0.7, 0.9, 1.0]\n",
        "mse_scores = []\n",
        "\n",
        "for max_samples in max_samples_range:\n",
        "    br = BaggingRegressor(estimator=DecisionTreeRegressor(), n_estimators=100, max_samples=max_samples, random_state=42)\n",
        "    br.fit(x_train, y_train)\n",
        "    y_pred = br.predict(x_test)\n",
        "    mse = mean_squared_error(y_test, y_pred)\n",
        "    mse_scores.append(mse)\n",
        "    print(f\"Max Samples: {max_samples}, MSE: {mse}\")\n",
        "\n"
      ],
      "metadata": {
        "colab": {
          "base_uri": "https://localhost:8080/"
        },
        "id": "FeK3Fs0mbCpx",
        "outputId": "644a5f11-840e-4581-9c04-d1a7a5066405"
      },
      "execution_count": 63,
      "outputs": [
        {
          "output_type": "stream",
          "name": "stdout",
          "text": [
            "Max Samples: 0.5, MSE: 2934.124968539326\n",
            "Max Samples: 0.7, MSE: 2963.5136112359546\n",
            "Max Samples: 0.9, MSE: 2990.3671651685395\n",
            "Max Samples: 1.0, MSE: 2970.863235955056\n"
          ]
        }
      ]
    },
    {
      "cell_type": "code",
      "source": [],
      "metadata": {
        "id": "gTWS6fyYbdBd"
      },
      "execution_count": null,
      "outputs": []
    }
  ]
}